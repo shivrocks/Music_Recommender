{
 "cells": [
  {
   "cell_type": "code",
   "execution_count": 37,
   "id": "50ac34ed",
   "metadata": {},
   "outputs": [],
   "source": [
    "import pandas as pd"
   ]
  },
  {
   "cell_type": "code",
   "execution_count": 38,
   "id": "8d218487",
   "metadata": {},
   "outputs": [],
   "source": [
    "df = pd.read_csv(r\"E:\\ML_Project\\Music Recommender System\\spotify_millsongdata.csv\")"
   ]
  },
  {
   "cell_type": "code",
   "execution_count": 39,
   "id": "79919672",
   "metadata": {},
   "outputs": [
    {
     "data": {
      "text/html": [
       "<div>\n",
       "<style scoped>\n",
       "    .dataframe tbody tr th:only-of-type {\n",
       "        vertical-align: middle;\n",
       "    }\n",
       "\n",
       "    .dataframe tbody tr th {\n",
       "        vertical-align: top;\n",
       "    }\n",
       "\n",
       "    .dataframe thead th {\n",
       "        text-align: right;\n",
       "    }\n",
       "</style>\n",
       "<table border=\"1\" class=\"dataframe\">\n",
       "  <thead>\n",
       "    <tr style=\"text-align: right;\">\n",
       "      <th></th>\n",
       "      <th>artist</th>\n",
       "      <th>song</th>\n",
       "      <th>link</th>\n",
       "      <th>text</th>\n",
       "    </tr>\n",
       "  </thead>\n",
       "  <tbody>\n",
       "    <tr>\n",
       "      <th>0</th>\n",
       "      <td>ABBA</td>\n",
       "      <td>Ahe's My Kind Of Girl</td>\n",
       "      <td>/a/abba/ahes+my+kind+of+girl_20598417.html</td>\n",
       "      <td>Look at her face, it's a wonderful face  \\r\\nA...</td>\n",
       "    </tr>\n",
       "    <tr>\n",
       "      <th>1</th>\n",
       "      <td>ABBA</td>\n",
       "      <td>Andante, Andante</td>\n",
       "      <td>/a/abba/andante+andante_20002708.html</td>\n",
       "      <td>Take it easy with me, please  \\r\\nTouch me gen...</td>\n",
       "    </tr>\n",
       "    <tr>\n",
       "      <th>2</th>\n",
       "      <td>ABBA</td>\n",
       "      <td>As Good As New</td>\n",
       "      <td>/a/abba/as+good+as+new_20003033.html</td>\n",
       "      <td>I'll never know why I had to go  \\r\\nWhy I had...</td>\n",
       "    </tr>\n",
       "    <tr>\n",
       "      <th>3</th>\n",
       "      <td>ABBA</td>\n",
       "      <td>Bang</td>\n",
       "      <td>/a/abba/bang_20598415.html</td>\n",
       "      <td>Making somebody happy is a question of give an...</td>\n",
       "    </tr>\n",
       "    <tr>\n",
       "      <th>4</th>\n",
       "      <td>ABBA</td>\n",
       "      <td>Bang-A-Boomerang</td>\n",
       "      <td>/a/abba/bang+a+boomerang_20002668.html</td>\n",
       "      <td>Making somebody happy is a question of give an...</td>\n",
       "    </tr>\n",
       "  </tbody>\n",
       "</table>\n",
       "</div>"
      ],
      "text/plain": [
       "  artist                   song                                        link  \\\n",
       "0   ABBA  Ahe's My Kind Of Girl  /a/abba/ahes+my+kind+of+girl_20598417.html   \n",
       "1   ABBA       Andante, Andante       /a/abba/andante+andante_20002708.html   \n",
       "2   ABBA         As Good As New        /a/abba/as+good+as+new_20003033.html   \n",
       "3   ABBA                   Bang                  /a/abba/bang_20598415.html   \n",
       "4   ABBA       Bang-A-Boomerang      /a/abba/bang+a+boomerang_20002668.html   \n",
       "\n",
       "                                                text  \n",
       "0  Look at her face, it's a wonderful face  \\r\\nA...  \n",
       "1  Take it easy with me, please  \\r\\nTouch me gen...  \n",
       "2  I'll never know why I had to go  \\r\\nWhy I had...  \n",
       "3  Making somebody happy is a question of give an...  \n",
       "4  Making somebody happy is a question of give an...  "
      ]
     },
     "execution_count": 39,
     "metadata": {},
     "output_type": "execute_result"
    }
   ],
   "source": [
    "df.head(5)"
   ]
  },
  {
   "cell_type": "code",
   "execution_count": 40,
   "id": "b61c723f",
   "metadata": {},
   "outputs": [
    {
     "data": {
      "text/html": [
       "<div>\n",
       "<style scoped>\n",
       "    .dataframe tbody tr th:only-of-type {\n",
       "        vertical-align: middle;\n",
       "    }\n",
       "\n",
       "    .dataframe tbody tr th {\n",
       "        vertical-align: top;\n",
       "    }\n",
       "\n",
       "    .dataframe thead th {\n",
       "        text-align: right;\n",
       "    }\n",
       "</style>\n",
       "<table border=\"1\" class=\"dataframe\">\n",
       "  <thead>\n",
       "    <tr style=\"text-align: right;\">\n",
       "      <th></th>\n",
       "      <th>artist</th>\n",
       "      <th>song</th>\n",
       "      <th>link</th>\n",
       "      <th>text</th>\n",
       "    </tr>\n",
       "  </thead>\n",
       "  <tbody>\n",
       "    <tr>\n",
       "      <th>57645</th>\n",
       "      <td>Ziggy Marley</td>\n",
       "      <td>Good Old Days</td>\n",
       "      <td>/z/ziggy+marley/good+old+days_10198588.html</td>\n",
       "      <td>Irie days come on play  \\r\\nLet the angels fly...</td>\n",
       "    </tr>\n",
       "    <tr>\n",
       "      <th>57646</th>\n",
       "      <td>Ziggy Marley</td>\n",
       "      <td>Hand To Mouth</td>\n",
       "      <td>/z/ziggy+marley/hand+to+mouth_20531167.html</td>\n",
       "      <td>Power to the workers  \\r\\nMore power  \\r\\nPowe...</td>\n",
       "    </tr>\n",
       "    <tr>\n",
       "      <th>57647</th>\n",
       "      <td>Zwan</td>\n",
       "      <td>Come With Me</td>\n",
       "      <td>/z/zwan/come+with+me_20148981.html</td>\n",
       "      <td>all you need  \\r\\nis something i'll believe  \\...</td>\n",
       "    </tr>\n",
       "    <tr>\n",
       "      <th>57648</th>\n",
       "      <td>Zwan</td>\n",
       "      <td>Desire</td>\n",
       "      <td>/z/zwan/desire_20148986.html</td>\n",
       "      <td>northern star  \\r\\nam i frightened  \\r\\nwhere ...</td>\n",
       "    </tr>\n",
       "    <tr>\n",
       "      <th>57649</th>\n",
       "      <td>Zwan</td>\n",
       "      <td>Heartsong</td>\n",
       "      <td>/z/zwan/heartsong_20148991.html</td>\n",
       "      <td>come in  \\r\\nmake yourself at home  \\r\\ni'm a ...</td>\n",
       "    </tr>\n",
       "  </tbody>\n",
       "</table>\n",
       "</div>"
      ],
      "text/plain": [
       "             artist           song  \\\n",
       "57645  Ziggy Marley  Good Old Days   \n",
       "57646  Ziggy Marley  Hand To Mouth   \n",
       "57647          Zwan   Come With Me   \n",
       "57648          Zwan         Desire   \n",
       "57649          Zwan      Heartsong   \n",
       "\n",
       "                                              link  \\\n",
       "57645  /z/ziggy+marley/good+old+days_10198588.html   \n",
       "57646  /z/ziggy+marley/hand+to+mouth_20531167.html   \n",
       "57647           /z/zwan/come+with+me_20148981.html   \n",
       "57648                 /z/zwan/desire_20148986.html   \n",
       "57649              /z/zwan/heartsong_20148991.html   \n",
       "\n",
       "                                                    text  \n",
       "57645  Irie days come on play  \\r\\nLet the angels fly...  \n",
       "57646  Power to the workers  \\r\\nMore power  \\r\\nPowe...  \n",
       "57647  all you need  \\r\\nis something i'll believe  \\...  \n",
       "57648  northern star  \\r\\nam i frightened  \\r\\nwhere ...  \n",
       "57649  come in  \\r\\nmake yourself at home  \\r\\ni'm a ...  "
      ]
     },
     "execution_count": 40,
     "metadata": {},
     "output_type": "execute_result"
    }
   ],
   "source": [
    "df.tail(5)"
   ]
  },
  {
   "cell_type": "code",
   "execution_count": 41,
   "id": "d7d8fa2a",
   "metadata": {},
   "outputs": [
    {
     "data": {
      "text/plain": [
       "(57650, 4)"
      ]
     },
     "execution_count": 41,
     "metadata": {},
     "output_type": "execute_result"
    }
   ],
   "source": [
    "df.shape"
   ]
  },
  {
   "cell_type": "code",
   "execution_count": 42,
   "id": "a8fdecf9",
   "metadata": {},
   "outputs": [
    {
     "data": {
      "text/plain": [
       "artist    0\n",
       "song      0\n",
       "link      0\n",
       "text      0\n",
       "dtype: int64"
      ]
     },
     "execution_count": 42,
     "metadata": {},
     "output_type": "execute_result"
    }
   ],
   "source": [
    "df.isnull().sum()"
   ]
  },
  {
   "cell_type": "code",
   "execution_count": 43,
   "id": "dde3d24b",
   "metadata": {},
   "outputs": [],
   "source": [
    "df =df.sample(5000).drop('link', axis=1).reset_index(drop=True)"
   ]
  },
  {
   "cell_type": "code",
   "execution_count": 44,
   "id": "cf5ff69f",
   "metadata": {},
   "outputs": [
    {
     "data": {
      "text/html": [
       "<div>\n",
       "<style scoped>\n",
       "    .dataframe tbody tr th:only-of-type {\n",
       "        vertical-align: middle;\n",
       "    }\n",
       "\n",
       "    .dataframe tbody tr th {\n",
       "        vertical-align: top;\n",
       "    }\n",
       "\n",
       "    .dataframe thead th {\n",
       "        text-align: right;\n",
       "    }\n",
       "</style>\n",
       "<table border=\"1\" class=\"dataframe\">\n",
       "  <thead>\n",
       "    <tr style=\"text-align: right;\">\n",
       "      <th></th>\n",
       "      <th>artist</th>\n",
       "      <th>song</th>\n",
       "      <th>text</th>\n",
       "    </tr>\n",
       "  </thead>\n",
       "  <tbody>\n",
       "    <tr>\n",
       "      <th>0</th>\n",
       "      <td>Gino Vannelli</td>\n",
       "      <td>Sally</td>\n",
       "      <td>Sally, she says the sweetest things  \\r\\nBut w...</td>\n",
       "    </tr>\n",
       "    <tr>\n",
       "      <th>1</th>\n",
       "      <td>Rolling Stones</td>\n",
       "      <td>Bright Lights Big City</td>\n",
       "      <td>Bright lights, big city  \\r\\nGone to my baby's...</td>\n",
       "    </tr>\n",
       "    <tr>\n",
       "      <th>2</th>\n",
       "      <td>Robbie Williams</td>\n",
       "      <td>I Feel It But I Can't Explain</td>\n",
       "      <td>I walk into a room  \\r\\nI say how do you do  \\...</td>\n",
       "    </tr>\n",
       "    <tr>\n",
       "      <th>3</th>\n",
       "      <td>Procol Harum</td>\n",
       "      <td>A Salty Dog</td>\n",
       "      <td>All hands on deck, we've run a float,  \\r\\nI h...</td>\n",
       "    </tr>\n",
       "    <tr>\n",
       "      <th>4</th>\n",
       "      <td>Tina Turner</td>\n",
       "      <td>On Silent Wings</td>\n",
       "      <td>There was a time when I would have followed yo...</td>\n",
       "    </tr>\n",
       "    <tr>\n",
       "      <th>5</th>\n",
       "      <td>Cyndi Lauper</td>\n",
       "      <td>Unconditional Love</td>\n",
       "      <td>And I want to be everything  \\r\\nYou want me t...</td>\n",
       "    </tr>\n",
       "    <tr>\n",
       "      <th>6</th>\n",
       "      <td>Doors</td>\n",
       "      <td>Yes, The River Knows</td>\n",
       "      <td>Please believe me  \\r\\nThe river told me  \\r\\n...</td>\n",
       "    </tr>\n",
       "    <tr>\n",
       "      <th>7</th>\n",
       "      <td>Cyndi Lauper</td>\n",
       "      <td>Same Ol' Story</td>\n",
       "      <td>People slippin' in the rain  \\r\\nI watch them ...</td>\n",
       "    </tr>\n",
       "    <tr>\n",
       "      <th>8</th>\n",
       "      <td>Religious Music</td>\n",
       "      <td>Go Tell It On The Mountain</td>\n",
       "      <td>Go, tell it on the mountain  \\r\\nOver the hill...</td>\n",
       "    </tr>\n",
       "    <tr>\n",
       "      <th>9</th>\n",
       "      <td>Waterboys</td>\n",
       "      <td>A Pagan Place</td>\n",
       "      <td>How did he come here?  \\r\\nWho gave him the ke...</td>\n",
       "    </tr>\n",
       "  </tbody>\n",
       "</table>\n",
       "</div>"
      ],
      "text/plain": [
       "            artist                           song  \\\n",
       "0    Gino Vannelli                          Sally   \n",
       "1   Rolling Stones         Bright Lights Big City   \n",
       "2  Robbie Williams  I Feel It But I Can't Explain   \n",
       "3     Procol Harum                    A Salty Dog   \n",
       "4      Tina Turner                On Silent Wings   \n",
       "5     Cyndi Lauper             Unconditional Love   \n",
       "6            Doors           Yes, The River Knows   \n",
       "7     Cyndi Lauper                 Same Ol' Story   \n",
       "8  Religious Music     Go Tell It On The Mountain   \n",
       "9        Waterboys                  A Pagan Place   \n",
       "\n",
       "                                                text  \n",
       "0  Sally, she says the sweetest things  \\r\\nBut w...  \n",
       "1  Bright lights, big city  \\r\\nGone to my baby's...  \n",
       "2  I walk into a room  \\r\\nI say how do you do  \\...  \n",
       "3  All hands on deck, we've run a float,  \\r\\nI h...  \n",
       "4  There was a time when I would have followed yo...  \n",
       "5  And I want to be everything  \\r\\nYou want me t...  \n",
       "6  Please believe me  \\r\\nThe river told me  \\r\\n...  \n",
       "7  People slippin' in the rain  \\r\\nI watch them ...  \n",
       "8  Go, tell it on the mountain  \\r\\nOver the hill...  \n",
       "9  How did he come here?  \\r\\nWho gave him the ke...  "
      ]
     },
     "execution_count": 44,
     "metadata": {},
     "output_type": "execute_result"
    }
   ],
   "source": [
    "df.head(10)"
   ]
  },
  {
   "cell_type": "code",
   "execution_count": 45,
   "id": "26eb5b1c",
   "metadata": {},
   "outputs": [
    {
     "data": {
      "text/plain": [
       "\"Sally, she says the sweetest things  \\r\\nBut words won't stop the pain  \\r\\nShe's painting skies of blue  \\r\\nWhile I'm standing in the rain  \\r\\n  \\r\\nI love her still I always will  \\r\\n  \\r\\nSally, she sings the sweetest songs  \\r\\nBut the melody is a lie  \\r\\nShe's had a change of heart  \\r\\nI can see it in her eyes  \\r\\n  \\r\\nI love her so I can't let go  \\r\\n  \\r\\nSave every moment save every hour  \\r\\nGone are the golden days we knew  \\r\\nSomeone is lonely in love with the other  \\r\\nAnd I'm still in love with you  \\r\\n  \\r\\nShe was a flower child  \\r\\nWhen whe came into my life  \\r\\nAnd now the decades gone  \\r\\nAnd nothings turned out right  \\r\\n  \\r\\nThe feelings gone but life goes on  \\r\\n  \\r\\nSomeone is lonely  \\r\\nIn love with the other  \\r\\nAnd I'm still in love with you  \\r\\n  \\r\\nSally, she says the sweetest things  \\r\\nBut words won't ever do  \\r\\nYou're throwing stones at me  \\r\\nThat I can't throw back at you  \\r\\n  \\r\\nI love you still  \\r\\nI always will\\r\\n\\r\\n\""
      ]
     },
     "execution_count": 45,
     "metadata": {},
     "output_type": "execute_result"
    }
   ],
   "source": [
    "df['text'][0]"
   ]
  },
  {
   "cell_type": "code",
   "execution_count": 46,
   "id": "dc76d0f4",
   "metadata": {},
   "outputs": [],
   "source": [
    "# df = df.sample(5000)"
   ]
  },
  {
   "cell_type": "code",
   "execution_count": 47,
   "id": "4a0c4186",
   "metadata": {},
   "outputs": [
    {
     "data": {
      "text/plain": [
       "(5000, 3)"
      ]
     },
     "execution_count": 47,
     "metadata": {},
     "output_type": "execute_result"
    }
   ],
   "source": [
    "df.shape"
   ]
  },
  {
   "cell_type": "markdown",
   "id": "865afecc",
   "metadata": {},
   "source": [
    "Text Cleaning/ Text Preprocessing"
   ]
  },
  {
   "cell_type": "code",
   "execution_count": 48,
   "id": "b2359525",
   "metadata": {},
   "outputs": [],
   "source": [
    "df['text'] = df['text'].str.lower().replace(r'^\\w\\s', ' ').replace(r'\\n', ' ', regex = True)"
   ]
  },
  {
   "cell_type": "code",
   "execution_count": 49,
   "id": "7cdab7f0-6749-4a81-8c50-b8bac15abef2",
   "metadata": {},
   "outputs": [
    {
     "name": "stdout",
     "output_type": "stream",
     "text": [
      "Requirement already satisfied: nltk in c:\\users\\shiva\\appdata\\local\\programs\\python\\python312\\lib\\site-packages (3.9.1)Note: you may need to restart the kernel to use updated packages.\n",
      "\n",
      "Requirement already satisfied: click in c:\\users\\shiva\\appdata\\local\\programs\\python\\python312\\lib\\site-packages (from nltk) (8.1.7)\n",
      "Requirement already satisfied: joblib in c:\\users\\shiva\\appdata\\local\\programs\\python\\python312\\lib\\site-packages (from nltk) (1.4.2)\n",
      "Requirement already satisfied: regex>=2021.8.3 in c:\\users\\shiva\\appdata\\local\\programs\\python\\python312\\lib\\site-packages (from nltk) (2024.9.11)\n",
      "Requirement already satisfied: tqdm in c:\\users\\shiva\\appdata\\local\\programs\\python\\python312\\lib\\site-packages (from nltk) (4.66.5)\n",
      "Requirement already satisfied: colorama in c:\\users\\shiva\\appdata\\local\\programs\\python\\python312\\lib\\site-packages (from click->nltk) (0.4.6)\n"
     ]
    }
   ],
   "source": [
    "pip install nltk"
   ]
  },
  {
   "cell_type": "code",
   "execution_count": 68,
   "id": "f134be50-aa40-4fdf-ac16-298b155b79c6",
   "metadata": {},
   "outputs": [
    {
     "name": "stderr",
     "output_type": "stream",
     "text": [
      "[nltk_data] Downloading package punkt_tab to\n",
      "[nltk_data]     C:\\Users\\shiva\\AppData\\Roaming\\nltk_data...\n",
      "[nltk_data]   Unzipping tokenizers\\punkt_tab.zip.\n"
     ]
    },
    {
     "data": {
      "text/plain": [
       "True"
      ]
     },
     "execution_count": 68,
     "metadata": {},
     "output_type": "execute_result"
    }
   ],
   "source": [
    "import nltk\n",
    "nltk.download('punkt_tab')"
   ]
  },
  {
   "cell_type": "code",
   "execution_count": 69,
   "id": "55387e47-c79e-4dcc-a125-60cfa1cb1cd9",
   "metadata": {},
   "outputs": [],
   "source": [
    "from nltk.tokenize import word_tokenize\n",
    "from nltk.stem import PorterStemmer\n",
    "\n",
    "def token(txt):\n",
    "    stemmer = PorterStemmer()\n",
    "    tokens = word_tokenize(txt)  # Tokenize the text\n",
    "    stems = [stemmer.stem(w) for w in tokens]  # Apply stemming\n",
    "    return \" \".join(stems)"
   ]
  },
  {
   "cell_type": "code",
   "execution_count": 70,
   "id": "b7cef11b-af32-4819-bf04-62b861bbc279",
   "metadata": {},
   "outputs": [],
   "source": [
    "df['text'] = df['text'].apply(lambda x: token(x))"
   ]
  },
  {
   "cell_type": "code",
   "execution_count": 72,
   "id": "d8b81708-608c-4cce-a391-fc62ccce54a8",
   "metadata": {},
   "outputs": [
    {
     "name": "stdout",
     "output_type": "stream",
     "text": [
      "Collecting scikit-learnNote: you may need to restart the kernel to use updated packages.\n",
      "\n",
      "  Downloading scikit_learn-1.5.2-cp312-cp312-win_amd64.whl.metadata (13 kB)\n",
      "Requirement already satisfied: numpy>=1.19.5 in c:\\users\\shiva\\appdata\\local\\programs\\python\\python312\\lib\\site-packages (from scikit-learn) (2.0.1)\n",
      "Collecting scipy>=1.6.0 (from scikit-learn)\n",
      "  Downloading scipy-1.14.1-cp312-cp312-win_amd64.whl.metadata (60 kB)\n",
      "Requirement already satisfied: joblib>=1.2.0 in c:\\users\\shiva\\appdata\\local\\programs\\python\\python312\\lib\\site-packages (from scikit-learn) (1.4.2)\n",
      "Collecting threadpoolctl>=3.1.0 (from scikit-learn)\n",
      "  Downloading threadpoolctl-3.5.0-py3-none-any.whl.metadata (13 kB)\n",
      "Downloading scikit_learn-1.5.2-cp312-cp312-win_amd64.whl (11.0 MB)\n",
      "   ---------------------------------------- 0.0/11.0 MB ? eta -:--:--\n",
      "   ------ --------------------------------- 1.8/11.0 MB 9.1 MB/s eta 0:00:02\n",
      "   ------------- -------------------------- 3.7/11.0 MB 9.1 MB/s eta 0:00:01\n",
      "   -------------------- ------------------- 5.5/11.0 MB 8.8 MB/s eta 0:00:01\n",
      "   -------------------------- ------------- 7.3/11.0 MB 8.9 MB/s eta 0:00:01\n",
      "   --------------------------------- ------ 9.2/11.0 MB 8.8 MB/s eta 0:00:01\n",
      "   ---------------------------------------  10.7/11.0 MB 8.7 MB/s eta 0:00:01\n",
      "   ---------------------------------------- 11.0/11.0 MB 8.6 MB/s eta 0:00:00\n",
      "Downloading scipy-1.14.1-cp312-cp312-win_amd64.whl (44.5 MB)\n",
      "   ---------------------------------------- 0.0/44.5 MB ? eta -:--:--\n",
      "   - -------------------------------------- 1.8/44.5 MB 9.1 MB/s eta 0:00:05\n",
      "   --- ------------------------------------ 3.7/44.5 MB 8.7 MB/s eta 0:00:05\n",
      "   ---- ----------------------------------- 5.5/44.5 MB 8.8 MB/s eta 0:00:05\n",
      "   ------ --------------------------------- 7.1/44.5 MB 8.7 MB/s eta 0:00:05\n",
      "   -------- ------------------------------- 8.9/44.5 MB 8.8 MB/s eta 0:00:05\n",
      "   --------- ------------------------------ 10.7/44.5 MB 8.7 MB/s eta 0:00:04\n",
      "   ----------- ---------------------------- 12.6/44.5 MB 8.8 MB/s eta 0:00:04\n",
      "   ------------ --------------------------- 14.4/44.5 MB 8.7 MB/s eta 0:00:04\n",
      "   -------------- ------------------------- 16.3/44.5 MB 8.7 MB/s eta 0:00:04\n",
      "   ---------------- ----------------------- 18.1/44.5 MB 8.7 MB/s eta 0:00:04\n",
      "   ----------------- ---------------------- 19.9/44.5 MB 8.7 MB/s eta 0:00:03\n",
      "   ------------------- -------------------- 21.8/44.5 MB 8.7 MB/s eta 0:00:03\n",
      "   --------------------- ------------------ 23.6/44.5 MB 8.7 MB/s eta 0:00:03\n",
      "   ---------------------- ----------------- 25.4/44.5 MB 8.7 MB/s eta 0:00:03\n",
      "   ------------------------ --------------- 27.0/44.5 MB 8.7 MB/s eta 0:00:03\n",
      "   ------------------------- -------------- 28.8/44.5 MB 8.7 MB/s eta 0:00:02\n",
      "   --------------------------- ------------ 30.7/44.5 MB 8.7 MB/s eta 0:00:02\n",
      "   ---------------------------- ----------- 32.0/44.5 MB 8.5 MB/s eta 0:00:02\n",
      "   ------------------------------ --------- 33.8/44.5 MB 8.5 MB/s eta 0:00:02\n",
      "   ------------------------------- -------- 35.4/44.5 MB 8.5 MB/s eta 0:00:02\n",
      "   -------------------------------- ------- 36.7/44.5 MB 8.4 MB/s eta 0:00:01\n",
      "   ---------------------------------- ----- 38.0/44.5 MB 8.3 MB/s eta 0:00:01\n",
      "   ----------------------------------- ---- 39.3/44.5 MB 8.2 MB/s eta 0:00:01\n",
      "   ------------------------------------ --- 40.1/44.5 MB 8.0 MB/s eta 0:00:01\n",
      "   ------------------------------------ --- 41.2/44.5 MB 7.9 MB/s eta 0:00:01\n",
      "   -------------------------------------- - 42.7/44.5 MB 7.9 MB/s eta 0:00:01\n",
      "   ---------------------------------------  44.3/44.5 MB 7.9 MB/s eta 0:00:01\n",
      "   ---------------------------------------- 44.5/44.5 MB 7.8 MB/s eta 0:00:00\n",
      "Downloading threadpoolctl-3.5.0-py3-none-any.whl (18 kB)\n",
      "Installing collected packages: threadpoolctl, scipy, scikit-learn\n",
      "Successfully installed scikit-learn-1.5.2 scipy-1.14.1 threadpoolctl-3.5.0\n"
     ]
    }
   ],
   "source": [
    "pip install scikit-learn"
   ]
  },
  {
   "cell_type": "code",
   "execution_count": 73,
   "id": "95fc3be2",
   "metadata": {},
   "outputs": [],
   "source": [
    "from sklearn.feature_extraction.text import TfidfVectorizer\n",
    "from sklearn.metrics.pairwise import cosine_similarity"
   ]
  },
  {
   "cell_type": "code",
   "execution_count": 74,
   "id": "f4945e8f",
   "metadata": {},
   "outputs": [],
   "source": [
    "tfidvector = TfidfVectorizer(analyzer='word',stop_words='english')\n",
    "matrix = tfidvector.fit_transform(df['text'])\n",
    "similarity = cosine_similarity(matrix)"
   ]
  },
  {
   "cell_type": "code",
   "execution_count": 75,
   "id": "c1794772",
   "metadata": {},
   "outputs": [
    {
     "data": {
      "text/plain": [
       "array([1.        , 0.07878063, 0.0714032 , ..., 0.06920637, 0.03091885,\n",
       "       0.01959489])"
      ]
     },
     "execution_count": 75,
     "metadata": {},
     "output_type": "execute_result"
    }
   ],
   "source": [
    "similarity[0]"
   ]
  },
  {
   "cell_type": "code",
   "execution_count": 76,
   "id": "a6221770",
   "metadata": {},
   "outputs": [
    {
     "data": {
      "text/html": [
       "<div>\n",
       "<style scoped>\n",
       "    .dataframe tbody tr th:only-of-type {\n",
       "        vertical-align: middle;\n",
       "    }\n",
       "\n",
       "    .dataframe tbody tr th {\n",
       "        vertical-align: top;\n",
       "    }\n",
       "\n",
       "    .dataframe thead th {\n",
       "        text-align: right;\n",
       "    }\n",
       "</style>\n",
       "<table border=\"1\" class=\"dataframe\">\n",
       "  <thead>\n",
       "    <tr style=\"text-align: right;\">\n",
       "      <th></th>\n",
       "      <th>artist</th>\n",
       "      <th>song</th>\n",
       "      <th>text</th>\n",
       "    </tr>\n",
       "  </thead>\n",
       "  <tbody>\n",
       "  </tbody>\n",
       "</table>\n",
       "</div>"
      ],
      "text/plain": [
       "Empty DataFrame\n",
       "Columns: [artist, song, text]\n",
       "Index: []"
      ]
     },
     "execution_count": 76,
     "metadata": {},
     "output_type": "execute_result"
    }
   ],
   "source": [
    "df[df['song'] == 'Crying Over You']"
   ]
  },
  {
   "cell_type": "code",
   "execution_count": 77,
   "id": "5aaa2361",
   "metadata": {},
   "outputs": [],
   "source": [
    "def recommendation(song_df):\n",
    "    idx = df[df['song'] == song_df].index[0]\n",
    "    distances = sorted(list(enumerate(similarity[idx])),reverse=True,key=lambda x:x[1])\n",
    "    \n",
    "    songs = []\n",
    "    for m_id in distances[1:21]:\n",
    "        songs.append(df.iloc[m_id[0]].song)\n",
    "        \n",
    "    return songs"
   ]
  },
  {
   "cell_type": "code",
   "execution_count": 80,
   "id": "e64eee4d-f168-4861-b26c-31659a615dc5",
   "metadata": {},
   "outputs": [],
   "source": [
    "def recommendation(song_df):\n",
    "    if song_df not in df['song'].values:\n",
    "        print(f\"'{song_df}' not found in the DataFrame.\")\n",
    "        return  # Exit the function if the song is not found\n",
    "    \n",
    "    idx = df[df['song'] == song_df].index[0]\n",
    "    distances = sorted(list(enumerate(similarity[idx])), reverse=True, key=lambda x: x[1])\n",
    "    \n",
    "    songs = []\n",
    "    # Rest of your recommendation logic\n"
   ]
  },
  {
   "cell_type": "code",
   "execution_count": 81,
   "id": "8480f2a5-1424-4df4-9977-80e099d8e6c3",
   "metadata": {},
   "outputs": [
    {
     "name": "stdout",
     "output_type": "stream",
     "text": [
      "['Sally' 'Bright Lights Big City' \"I Feel It But I Can't Explain\" ...\n",
      " \"The Bells Of St. Mary's\" 'Honey On The Vine'\n",
      " \"Couldn't Call It Unexpected No. 4\"]\n"
     ]
    }
   ],
   "source": [
    "print(df['song'].unique())  # This will print the unique song titles in your DataFrame\n"
   ]
  },
  {
   "cell_type": "code",
   "execution_count": 83,
   "id": "216c25bb",
   "metadata": {},
   "outputs": [],
   "source": [
    "recommendation('Bright Lights Big City')"
   ]
  },
  {
   "cell_type": "code",
   "execution_count": 84,
   "id": "18192437",
   "metadata": {},
   "outputs": [],
   "source": [
    "import pickle\n",
    "pickle.dump(similarity,open('similarity.pkl','wb'))\n",
    "pickle.dump(df,open('df.pkl','wb'))"
   ]
  },
  {
   "cell_type": "code",
   "execution_count": null,
   "id": "e7edcf20",
   "metadata": {},
   "outputs": [],
   "source": []
  }
 ],
 "metadata": {
  "kernelspec": {
   "display_name": "Python 3 (ipykernel)",
   "language": "python",
   "name": "python3"
  },
  "language_info": {
   "codemirror_mode": {
    "name": "ipython",
    "version": 3
   },
   "file_extension": ".py",
   "mimetype": "text/x-python",
   "name": "python",
   "nbconvert_exporter": "python",
   "pygments_lexer": "ipython3",
   "version": "3.12.5"
  }
 },
 "nbformat": 4,
 "nbformat_minor": 5
}
